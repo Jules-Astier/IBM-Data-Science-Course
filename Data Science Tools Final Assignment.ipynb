{
    "cells": [
        {
            "cell_type": "markdown",
            "metadata": {},
            "source": "<center>\n    <img src=\"https://s3-api.us-geo.objectstorage.softlayer.net/cf-courses-data/CognitiveClass/Logos/organization_logo/organization_logo.png\" width=\"300\" alt=\"cognitiveclass.ai logo\">\n</center>\n\n# Final Assessment - Growth of Corona\n\n## Objectives\n\nAfter completing this lab you will be able to:\n\n*   Be confident about your machine learning skills\n"
        },
        {
            "cell_type": "markdown",
            "metadata": {},
            "source": "Welcome to the final assigment.  This Notebook displays growth of Corona cases. Please change the Country to anything other than \"United_States_of_America\". A list of available countries is given in the next cell. You can change the country in the cell after the next cell. Once finished, please share the notebook for grading.\n"
        },
        {
            "cell_type": "code",
            "execution_count": null,
            "metadata": {},
            "outputs": [],
            "source": "!pip install openpyxl\nimport pandas as pd\nimport seaborn as sns\n\nurl = 'https://www.ecdc.europa.eu/sites/default/files/documents/COVID-19-geographic-disbtribution-worldwide-2020-03-26.xlsx'\ndf_raw = pd.read_excel(url)\n\ndf_raw['Countries and territories'].unique()"
        },
        {
            "cell_type": "code",
            "execution_count": null,
            "metadata": {},
            "outputs": [],
            "source": "df = df_raw\n\ndf = df[df['Countries and territories']=='United_States_of_America']\n\ndf = df.sort_values(['Year', 'Month' ,'Day'], ascending=[1, 1, 1])\n\ndf['ts'] = pd.to_datetime(df[['Year', 'Month' ,'Day']])\n\n"
        },
        {
            "cell_type": "code",
            "execution_count": null,
            "metadata": {},
            "outputs": [],
            "source": "chart = sns.lineplot(x='ts', y='Cases', data=df, hue='Countries and territories')\nchart.set_xticklabels(df['ts'],rotation=45)\n\n\n"
        },
        {
            "cell_type": "markdown",
            "metadata": {},
            "source": "### Thank you for completing this lab!\n\n## Author\n\nRomeo Kienzler\n\n## Other Contributors\n\nLavanya\n\n## Change Log\n\n| Date (YYYY-MM-DD) | Version | Changed By | Change Description                 |\n| ----------------- | ------- | ---------- | ---------------------------------- |\n| 2020-09-01        | 2.0     | Lavanya    | Moved lab to course repo in GitLab |\n\n<hr>\n\n## <h3 align=\"center\"> \u00a9 IBM Corporation 2020. All rights reserved. <h3/>\n"
        }
    ],
    "metadata": {
        "kernelspec": {
            "display_name": "Python",
            "language": "python",
            "name": "conda-env-python-py"
        },
        "language_info": {
            "name": ""
        }
    },
    "nbformat": 4,
    "nbformat_minor": 4
}